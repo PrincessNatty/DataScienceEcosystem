{
 "cells": [
  {
   "cell_type": "markdown",
   "id": "19fce940-f61d-47e0-84b4-5936ad5d00ca",
   "metadata": {},
   "source": [
    "# Data Science Tools and Ecosystem"
   ]
  },
  {
   "attachments": {},
   "cell_type": "markdown",
   "id": "830c4eb7-5f9d-42a9-8067-4da8d08d9fd6",
   "metadata": {},
   "source": [
    "In this notebook, Data Science Tools and Ecosystem are summarized\n"
   ]
  },
  {
   "attachments": {},
   "cell_type": "markdown",
   "id": "c92729f1-b987-4aa7-ae1e-02257c9ae2d0",
   "metadata": {},
   "source": [
    "**Objectives**\n",
    "- Explore different Run Options\n",
    "- Rename your notebook\n",
    "- Shut down your notebook\n",
    "- Save and download the notebook\n",
    "- Upload the downloaded notebook\n",
    "\n"
   ]
  },
  {
   "attachments": {},
   "cell_type": "markdown",
   "id": "56f911c5-562c-448e-a720-ccfff644e6ab",
   "metadata": {},
   "source": [
    "Some of the popular languages that Data Scientists use are: "
   ]
  },
  {
   "attachments": {},
   "cell_type": "markdown",
   "id": "7e05cf95-4916-4fad-92e5-56339e22f523",
   "metadata": {},
   "source": [
    "ordered list: \n",
    "1. Python,\n",
    "2. R,\n",
    "3. SQL Languages,\n",
    "4. Java,\n",
    "5. Scala,\n",
    "6. C++,\n",
    "7. Julia\n"
   ]
  },
  {
   "attachments": {},
   "cell_type": "markdown",
   "id": "6b68a791-e1c1-4863-8055-d987fd2a7c97",
   "metadata": {},
   "source": [
    "Some of the commonly used libraries used by Data Scientists include: "
   ]
  },
  {
   "cell_type": "markdown",
   "id": "eb78c69a-1936-4433-bfcf-60fa571a9d98",
   "metadata": {},
   "source": [
    "Ordered list: \n",
    "1. Pandas,\n",
    "2. NumPy,\n",
    "3. SciPy,\n",
    "4. Matpilotib"
   ]
  },
  {
   "cell_type": "markdown",
   "id": "ba241f2e-fcca-43cb-ae02-739df4011f4e",
   "metadata": {},
   "source": [
    "| Data Science Tools|          |            |              \n",
    "| ------------------|----------|------------|\n",
    "| IBM Watson Studio |IBM AutoAI|IBM W. OpenScale|             \n"
   ]
  },
  {
   "attachments": {},
   "cell_type": "markdown",
   "id": "0770710a-96e6-4227-8c49-2c9f45128baa",
   "metadata": {},
   "source": [
    "### Below are a few examples of evaluating arithmetic expressions in Python"
   ]
  },
  {
   "cell_type": "code",
   "execution_count": 5,
   "id": "e2649fe1-3dd2-4b68-8fa1-b4710bb4d96a",
   "metadata": {},
   "outputs": [
    {
     "data": {
      "text/plain": [
       "17"
      ]
     },
     "execution_count": 5,
     "metadata": {},
     "output_type": "execute_result"
    }
   ],
   "source": [
    "# This a simple arithmetic expression to mutiply then add integers \n",
    "(3*4)+5"
   ]
  },
  {
   "cell_type": "code",
   "execution_count": 6,
   "id": "fddff2d1-5682-465e-b36b-9982fd5756a3",
   "metadata": {},
   "outputs": [
    {
     "data": {
      "text/plain": [
       "3.3333333333333335"
      ]
     },
     "execution_count": 6,
     "metadata": {},
     "output_type": "execute_result"
    }
   ],
   "source": [
    "# This will convert 200 minutes to hours by diving by 60 \n",
    "200/60"
   ]
  },
  {
   "cell_type": "markdown",
   "id": "a34d695f-1965-4de5-ab46-893996518de4",
   "metadata": {},
   "source": [
    "## Author\n",
    "Natty "
   ]
  },
  {
   "cell_type": "code",
   "execution_count": null,
   "id": "e5014fab-d472-4a36-b2b8-509abfbee470",
   "metadata": {},
   "outputs": [],
   "source": []
  }
 ],
 "metadata": {
  "kernelspec": {
   "display_name": "Python 3 (ipykernel)",
   "language": "python",
   "name": "python3"
  },
  "language_info": {
   "codemirror_mode": {
    "name": "ipython",
    "version": 3
   },
   "file_extension": ".py",
   "mimetype": "text/x-python",
   "name": "python",
   "nbconvert_exporter": "python",
   "pygments_lexer": "ipython3",
   "version": "3.11.9"
  }
 },
 "nbformat": 4,
 "nbformat_minor": 5
}
